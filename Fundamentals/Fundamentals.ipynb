{
 "cells": [
  {
   "cell_type": "markdown",
   "id": "multiple-railway",
   "metadata": {},
   "source": [
    "# Let's begin the fundamental studies"
   ]
  },
  {
   "cell_type": "markdown",
   "id": "collaborative-labor",
   "metadata": {},
   "source": [
    "Will probably just summarise and write out some infos about each items.\n",
    "Won't be going into details because there are many good articles on the internet\n",
    "about each topics. This is just for me to keep track on my revision task."
   ]
  },
  {
   "cell_type": "markdown",
   "id": "powered-macedonia",
   "metadata": {},
   "source": [
    "Where should I start; the first computing language I learnt was python 3.6.\n",
    "This was at age 17 in Junior College...\n",
    "\n",
    "Most peers around me took the subject combination; Physics, Chemistry, Math and Economics but my Dad encouraged me to try out a RARE combination that was Physics, Math, COMPUTING and China studies in English. \n",
    "Not many schools offered it so I was really only left with one option since the rest were difficult to get into.\n",
    "\n",
    "It turned out to be a good decision because I learnt quite abit about programming which helped alot since we had to do programming in University as well (for engineering courses)."
   ]
  },
  {
   "cell_type": "markdown",
   "id": "swedish-river",
   "metadata": {},
   "source": [
    "## Python and SQL"
   ]
  },
  {
   "cell_type": "markdown",
   "id": "fallen-engine",
   "metadata": {},
   "source": [
    "- https://www.python.org/\n",
    "\n",
    "It is really about practicing and coding as much as possible.\n",
    "When I was schooling, the codes were mainly for me and me only,\n",
    "but when you work in a software team; everyone is reading your code so\n",
    "it is better to make sure it is neat, readable and reusable!!!\n",
    "Best to start learning to use classes and Object Oriented Programming."
   ]
  },
  {
   "cell_type": "markdown",
   "id": "handed-glass",
   "metadata": {},
   "source": [
    " - https://www.khanacademy.org/computing/computer-programming/sql\n",
    " \n",
    "Khan Academy is also useful at summarising and helping you understand the basics.\n",
    "To be honest, I don't use SQL that much since my work involves using images..\n",
    "But it is important to know roughly how it works."
   ]
  },
  {
   "cell_type": "markdown",
   "id": "polyphonic-closing",
   "metadata": {},
   "source": [
    "## Software Engineering\n",
    "\n",
    " - Git\n",
    " - Agile\n",
    " - Cloud\n",
    " - Containers"
   ]
  },
  {
   "cell_type": "markdown",
   "id": "verbal-disorder",
   "metadata": {},
   "source": [
    "## Data Science\n",
    " - Mathematical Preliminaries\n",
    " - Python for data science revision\n",
    " - Correlation and Munging\n",
    " - Data Munging/ Data Cleaning"
   ]
  },
  {
   "cell_type": "code",
   "execution_count": null,
   "id": "hearing-investor",
   "metadata": {},
   "outputs": [],
   "source": []
  }
 ],
 "metadata": {
  "kernelspec": {
   "display_name": "Python 3",
   "language": "python",
   "name": "python3"
  },
  "language_info": {
   "codemirror_mode": {
    "name": "ipython",
    "version": 3
   },
   "file_extension": ".py",
   "mimetype": "text/x-python",
   "name": "python",
   "nbconvert_exporter": "python",
   "pygments_lexer": "ipython3",
   "version": "3.6.8"
  }
 },
 "nbformat": 4,
 "nbformat_minor": 5
}
