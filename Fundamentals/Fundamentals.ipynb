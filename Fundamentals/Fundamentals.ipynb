{
 "cells": [
  {
   "cell_type": "markdown",
   "id": "multiple-railway",
   "metadata": {},
   "source": [
    "# Let's begin the fundamental studies"
   ]
  },
  {
   "cell_type": "markdown",
   "id": "collaborative-labor",
   "metadata": {},
   "source": [
    "Will probably just summarise and write out some infos about each items.\n",
    "Won't be going into details because there are many good articles on the internet\n",
    "about each topics. This is just for me to keep track on my revision task."
   ]
  },
  {
   "cell_type": "markdown",
   "id": "powered-macedonia",
   "metadata": {},
   "source": [
    "Where should I start; the first computing language I learnt was python 3.6.\n",
    "This was at age 17 in Junior College...\n",
    "\n",
    "Most peers around me took the subject combination; Physics, Chemistry, Math and Economics but my Dad encouraged me to try out a RARE combination that was Physics, Math, COMPUTING and China studies in English. \n",
    "Not many schools offered it so I was really only left with one option since the rest were difficult to get into.\n",
    "\n",
    "It turned out to be a good decision because I learnt quite abit about programming which helped alot since we had to do programming in University as well (for engineering courses)."
   ]
  },
  {
   "cell_type": "markdown",
   "id": "swedish-river",
   "metadata": {},
   "source": [
    "## Python and SQL"
   ]
  },
  {
   "cell_type": "markdown",
   "id": "fallen-engine",
   "metadata": {},
   "source": [
    "- https://www.python.org/\n",
    "\n",
    "It is really about practicing and coding as much as possible.\n",
    "When I was schooling, the codes were mainly for me and me only,\n",
    "but when you work in a software team; everyone is reading your code so\n",
    "it is better to make sure it is neat, readable and reusable!!!\n",
    "Best to start learning to use classes and Object Oriented Programming."
   ]
  },
  {
   "cell_type": "markdown",
   "id": "handed-glass",
   "metadata": {},
   "source": [
    " - https://www.khanacademy.org/computing/computer-programming/sql\n",
    " \n",
    "Khan Academy is also useful at summarising and helping you understand the basics.\n",
    "To be honest, I don't use SQL that much since my work involves using images..\n",
    "But it is important to know roughly how it works."
   ]
  },
  {
   "cell_type": "markdown",
   "id": "polyphonic-closing",
   "metadata": {},
   "source": [
    "## Software Engineering\n",
    "\n",
    " - Git\n",
    " - Agile\n",
    " - Cloud\n",
    " - Containers"
   ]
  },
  {
   "cell_type": "markdown",
   "id": "verbal-disorder",
   "metadata": {},
   "source": [
    "## Data Science\n",
    " - Mathematical Preliminaries\n",
    " - Python for data science revision\n",
    " - Correlation and Munging\n",
    " - Data Munging/ Data Cleaning"
   ]
  },
  {
   "cell_type": "markdown",
   "id": "loose-brick",
   "metadata": {},
   "source": [
    " 1. Scores and Ranking\n",
    " * Scoring functions are measures that reduce multi-dimensional data to a single value, to highlight some particular property.\n",
    " * Rankings order items, usually by sorting scores\n",
    " * Good scoring functions; easily computable, understandable\n",
    " * Noramalisation and Z-Scores\n",
    " * Ranking Techniques; Elo Ranking, Merging rank orderings, Directed graph orderings, page rank.\n",
    "\n",
    " 2. Statistical Distributions\n",
    " * Binomial Distribution\n",
    " * Normal Distribution\n",
    " * Poisson Distribution\n",
    " * Power Law Distribution\n",
    " \n",
    " 3. Statistical Significance\n",
    " * Significance and Classification\n",
    " * T-Test, Kolmogorov-Smirnov Test, Permutation Tests"
   ]
  },
  {
   "cell_type": "markdown",
   "id": "decent-experience",
   "metadata": {},
   "source": [
    "Visualisation\n",
    "\n",
    "1. Principles of visualising data\n",
    "* Exploratory data analysis, Error Detection\n",
    "* Chart Suggestions for; Comparison, Distribution, Composition, Relationship\n",
    "\n",
    "2. Practise of data visualisation\n",
    "* Tufte’s principles; Maximize data-ink ratio, Minimize lie factor, Minimize chartjunk, Use proper scales and clear labeling"
   ]
  },
  {
   "cell_type": "markdown",
   "id": "junior-madison",
   "metadata": {},
   "source": [
    "Building Models\n",
    "\n",
    "Modeling is the process of encapsulating information into a tool which can make forecasts/predictions. The key steps are building, fitting, and validating the model.\n",
    "\n",
    "1. Occam’s Razor; Bias-Variance Tradeoffs; Principles of Nate Silver\n",
    "\n",
    "2. Taxonomy of Models\n",
    "* Linear vs. non-linear\n",
    "* Discrete vs. continuous models\n",
    "* Black box(Deep Learning) vs. descriptive(Linear Regression) \n",
    "* Stochastic vs. deterministic\n",
    "* Flat vs. heirarchical\n",
    "\n",
    "Validating Models\n",
    "\n",
    "1. Evaluating Classifiers\n",
    "* True positives (TP) where + is labeled +\n",
    "* True negative (TN) where - is labeled -\n",
    "* False positives (FP) where - is labeled +\n",
    "* False negatives (FN) where + is labeled \n",
    "\n",
    "2. Threshold Classifiers; Accuracy; Precision; Recall; F-Score; "
   ]
  },
  {
   "cell_type": "code",
   "execution_count": null,
   "id": "interpreted-stationery",
   "metadata": {},
   "outputs": [],
   "source": []
  }
 ],
 "metadata": {
  "kernelspec": {
   "display_name": "Python 3",
   "language": "python",
   "name": "python3"
  },
  "language_info": {
   "codemirror_mode": {
    "name": "ipython",
    "version": 3
   },
   "file_extension": ".py",
   "mimetype": "text/x-python",
   "name": "python",
   "nbconvert_exporter": "python",
   "pygments_lexer": "ipython3",
   "version": "3.6.8"
  }
 },
 "nbformat": 4,
 "nbformat_minor": 5
}
