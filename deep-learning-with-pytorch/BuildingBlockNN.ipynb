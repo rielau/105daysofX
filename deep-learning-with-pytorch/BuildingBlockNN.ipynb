{
 "cells": [
  {
   "cell_type": "markdown",
   "metadata": {},
   "source": [
    "# PacktPublishing/Deep-Learning-with-PyTorch"
   ]
  },
  {
   "cell_type": "code",
   "execution_count": 1,
   "metadata": {},
   "outputs": [
    {
     "data": {
      "text/plain": [
       "'1.7.1'"
      ]
     },
     "execution_count": 1,
     "metadata": {},
     "output_type": "execute_result"
    }
   ],
   "source": [
    "import torch\n",
    "torch.__version__"
   ]
  },
  {
   "cell_type": "code",
   "execution_count": 2,
   "metadata": {},
   "outputs": [],
   "source": [
    "import numpy as np\n",
    "import matplotlib.pyplot as plt\n",
    "%matplotlib inline\n",
    "\n",
    "from torch.autograd import Variable"
   ]
  },
  {
   "cell_type": "markdown",
   "metadata": {},
   "source": [
    "# First Neural Network Using Pytorch¶\n",
    "We present our first neural network which learns to map training examples (input array) to targets (output array). Lets assume that we work for one of the largest online companies called Wondemovies, which is into serving videos on-demand. Our training dataset contains a feature which represents average hours spent by users watching movies in the platform, we would like to predict how much time each user would spend on the platform in the coming week. Its just a imaginary use case, don't think too much about it. Some of the high level activities for building such a solution are:\n",
    "\n",
    "1. Data preperation : get_data() function prepares the tensors (arrays) containing input and output data.\n",
    "2. Create learnable parameters : get_weights() function provides us with tensors containing random values , which we will optimize to solve our problem.\n",
    "3. Network Model : simple_network() produces the output for the input data applying a linear rule , multiply weights with input data and add the bias term (y = Wx+b).\n",
    "4. Loss : loss_fn() provides information about how good the model is.\n",
    "5. Optimizer : optimize() function helps us in adjusting random weights created initially to help the model calculate target"
   ]
  },
  {
   "cell_type": "code",
   "execution_count": 3,
   "metadata": {},
   "outputs": [],
   "source": [
    "#Training Data\n",
    "def get_data():\n",
    "    train_X = np.asarray([3.3,4.4,5.5,6.71,6.93,4.168,9.779,6.182,7.59,2.167,\n",
    "                         7.042,10.791,5.313,7.997,5.654,9.27,3.1])\n",
    "    train_Y = np.asarray([1.7,2.76,2.09,3.19,1.694,1.573,3.366,2.596,2.53,1.221,\n",
    "                         2.827,3.465,1.65,2.904,2.42,2.94,1.3])\n",
    "    \n",
    "    dtype= torch.FloatTensor\n",
    "    X=Variable(torch.from_numpy(train_X).type(dtype),requires_grad=False).view(17,1)\n",
    "    y=Variable(torch.from_numpy(train_Y).type(dtype),requires_grad=False)\n",
    "    return X,y\n",
    "\n",
    "def plot_variable(x,y,z='', **kwargs):\n",
    "    l = []\n",
    "    for a in [x,y]:\n",
    "        l.append(a.data.numpy())\n",
    "    plt.plot(l[0],l[1],z,**kwargs)"
   ]
  },
  {
   "cell_type": "code",
   "execution_count": 4,
   "metadata": {},
   "outputs": [],
   "source": [
    "#Get Weights, Bias\n",
    "def get_weights():\n",
    "    w=Variable(torch.randn(1),requires_grad=True)\n",
    "    b=Variable(torch.randn(1),requires_grad=True)\n",
    "    return w,b"
   ]
  },
  {
   "cell_type": "code",
   "execution_count": 5,
   "metadata": {},
   "outputs": [],
   "source": [
    "#Make Network\n",
    "def simple_network(x):\n",
    "    y_pred = torch.matmul(x,w)+b\n",
    "    return y_pred"
   ]
  },
  {
   "cell_type": "code",
   "execution_count": 6,
   "metadata": {},
   "outputs": [],
   "source": [
    "#Loss function\n",
    "def loss_fn(y,y_pred):\n",
    "    loss= (y_pred-y).pow(2).sum()\n",
    "    for param in [w,b]:\n",
    "        if not param.grad is None: param.grad.data.zero_()\n",
    "    loss.backward()\n",
    "    return loss.item()"
   ]
  },
  {
   "cell_type": "code",
   "execution_count": 7,
   "metadata": {},
   "outputs": [],
   "source": [
    "#Optimizer\n",
    "def optimize(learning_rate):\n",
    "    w.data -= learning_rate * w.grad.data\n",
    "    b.data -= learning_rate * b.grad.data\n",
    "\n",
    "learning_rate = 1e-4"
   ]
  },
  {
   "cell_type": "code",
   "execution_count": 8,
   "metadata": {
    "scrolled": true
   },
   "outputs": [
    {
     "name": "stdout",
     "output_type": "stream",
     "text": [
      "6535.015625\n",
      "4.6580810546875\n",
      "4.575124740600586\n",
      "4.495884418487549\n",
      "4.419849395751953\n",
      "4.346886157989502\n",
      "4.276876926422119\n",
      "4.2096943855285645\n",
      "4.145231246948242\n",
      "4.0833740234375\n"
     ]
    }
   ],
   "source": [
    "x,y = get_data()\n",
    "w,b = get_weights()\n",
    "for i in range(500):\n",
    "    y_pred = simple_network(x)\n",
    "    loss = loss_fn(y,y_pred)\n",
    "    if i % 50 == 0:\n",
    "        print(loss)\n",
    "    optimize(learning_rate)"
   ]
  },
  {
   "cell_type": "code",
   "execution_count": 9,
   "metadata": {},
   "outputs": [
    {
     "data": {
      "image/png": "[encoded data removed]",
      "text/plain": [
       "<Figure size 432x288 with 1 Axes>"
      ]
     },
     "metadata": {
      "needs_background": "light"
     },
     "output_type": "display_data"
    }
   ],
   "source": [
    "x_numpy = x.data.numpy()\n",
    "plot_variable(x,y,'ro')\n",
    "plot_variable(x,y_pred, label='Fitted Line')"
   ]
  }
 ],
 "metadata": {
  "kernelspec": {
   "display_name": "Python 3",
   "language": "python",
   "name": "python3"
  },
  "language_info": {
   "codemirror_mode": {
    "name": "ipython",
    "version": 3
   },
   "file_extension": ".py",
   "mimetype": "text/x-python",
   "name": "python",
   "nbconvert_exporter": "python",
   "pygments_lexer": "ipython3",
   "version": "3.6.12"
  }
 },
 "nbformat": 4,
 "nbformat_minor": 4
}
