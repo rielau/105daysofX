{
  "nbformat": 4,
  "nbformat_minor": 0,
  "metadata": {
    "colab": {
      "name": "TextClassification.ipynb",
      "provenance": [],
      "collapsed_sections": []
    },
    "kernelspec": {
      "name": "python3",
      "display_name": "Python 3"
    },
    "accelerator": "GPU"
  },
  "cells": [
    {
      "cell_type": "code",
      "metadata": {
        "id": "Zeif3Am-fRUc"
      },
      "source": [
        "import torch \n",
        "import torch.nn as nn\n",
        "import torch.nn.functional as F\n",
        "import torch.optim as optim\n",
        "import numpy as np\n",
        "from torchtext import data \n",
        "import torchtext\n",
        "from pathlib import Path\n",
        "import pandas as pd\n",
        "import spacy"
      ],
      "execution_count": 1,
      "outputs": []
    },
    {
      "cell_type": "code",
      "metadata": {
        "id": "Lr6X2GHvg9AH"
      },
      "source": [
        "device = \"cuda\""
      ],
      "execution_count": 2,
      "outputs": []
    },
    {
      "cell_type": "code",
      "metadata": {
        "colab": {
          "base_uri": "https://localhost:8080/"
        },
        "id": "z8O9DyIjhHqG",
        "outputId": "e51051e9-9d0d-44b8-c9b1-a1499f622440"
      },
      "source": [
        "!mkdir -p data\n",
        "!wget -nc https://nyc3.digitaloceanspaces.com/ml-files-distro/v1/sentiment-analysis-is-bad/data/training.1600000.processed.noemoticon.csv.zip -P data\n",
        "!unzip -n -d data data/training.1600000.processed.noemoticon.csv.zip"
      ],
      "execution_count": 4,
      "outputs": [
        {
          "output_type": "stream",
          "text": [
            "--2021-01-10 04:23:34--  https://nyc3.digitaloceanspaces.com/ml-files-distro/v1/sentiment-analysis-is-bad/data/training.1600000.processed.noemoticon.csv.zip\n",
            "Resolving nyc3.digitaloceanspaces.com (nyc3.digitaloceanspaces.com)... 162.243.189.2\n",
            "Connecting to nyc3.digitaloceanspaces.com (nyc3.digitaloceanspaces.com)|162.243.189.2|:443... connected.\n",
            "HTTP request sent, awaiting response... 200 OK\n",
            "Length: 85088192 (81M) [application/zip]\n",
            "Saving to: ‘data/training.1600000.processed.noemoticon.csv.zip’\n",
            "\n",
            "training.1600000.pr 100%[===================>]  81.15M  37.8MB/s    in 2.1s    \n",
            "\n",
            "2021-01-10 04:23:36 (37.8 MB/s) - ‘data/training.1600000.processed.noemoticon.csv.zip’ saved [85088192/85088192]\n",
            "\n",
            "Archive:  data/training.1600000.processed.noemoticon.csv.zip\n",
            "  inflating: data/training.1600000.processed.noemoticon.csv  \n"
          ],
          "name": "stdout"
        }
      ]
    },
    {
      "cell_type": "code",
      "metadata": {
        "id": "DKdffE07hN0G"
      },
      "source": [
        "tweetsDF = pd.read_csv(\"./data/training.1600000.processed.noemoticon.csv\", \n",
        "engine=\"python\", header=None)"
      ],
      "execution_count": 5,
      "outputs": []
    },
    {
      "cell_type": "code",
      "metadata": {
        "colab": {
          "base_uri": "https://localhost:8080/"
        },
        "id": "3egJr1BTiYtO",
        "outputId": "37a71baf-c132-4fd9-a83c-3dcb3a0c377e"
      },
      "source": [
        "tweetsDF[0].value_counts()"
      ],
      "execution_count": 6,
      "outputs": [
        {
          "output_type": "execute_result",
          "data": {
            "text/plain": [
              "4    800000\n",
              "0    800000\n",
              "Name: 0, dtype: int64"
            ]
          },
          "metadata": {
            "tags": []
          },
          "execution_count": 6
        }
      ]
    },
    {
      "cell_type": "code",
      "metadata": {
        "colab": {
          "base_uri": "https://localhost:8080/",
          "height": 374
        },
        "id": "C4-I-KQhids7",
        "outputId": "f48cf15f-d2f2-448a-b6c0-c83732c29b14"
      },
      "source": [
        "tweetsDF.head(5)"
      ],
      "execution_count": 7,
      "outputs": [
        {
          "output_type": "execute_result",
          "data": {
            "text/html": [
              "<div>\n",
              "<style scoped>\n",
              "    .dataframe tbody tr th:only-of-type {\n",
              "        vertical-align: middle;\n",
              "    }\n",
              "\n",
              "    .dataframe tbody tr th {\n",
              "        vertical-align: top;\n",
              "    }\n",
              "\n",
              "    .dataframe thead th {\n",
              "        text-align: right;\n",
              "    }\n",
              "</style>\n",
              "<table border=\"1\" class=\"dataframe\">\n",
              "  <thead>\n",
              "    <tr style=\"text-align: right;\">\n",
              "      <th></th>\n",
              "      <th>0</th>\n",
              "      <th>1</th>\n",
              "      <th>2</th>\n",
              "      <th>3</th>\n",
              "      <th>4</th>\n",
              "      <th>5</th>\n",
              "    </tr>\n",
              "  </thead>\n",
              "  <tbody>\n",
              "    <tr>\n",
              "      <th>0</th>\n",
              "      <td>0</td>\n",
              "      <td>1467810369</td>\n",
              "      <td>Mon Apr 06 22:19:45 PDT 2009</td>\n",
              "      <td>NO_QUERY</td>\n",
              "      <td>_TheSpecialOne_</td>\n",
              "      <td>@switchfoot http://twitpic.com/2y1zl - Awww, t...</td>\n",
              "    </tr>\n",
              "    <tr>\n",
              "      <th>1</th>\n",
              "      <td>0</td>\n",
              "      <td>1467810672</td>\n",
              "      <td>Mon Apr 06 22:19:49 PDT 2009</td>\n",
              "      <td>NO_QUERY</td>\n",
              "      <td>scotthamilton</td>\n",
              "      <td>is upset that he can't update his Facebook by ...</td>\n",
              "    </tr>\n",
              "    <tr>\n",
              "      <th>2</th>\n",
              "      <td>0</td>\n",
              "      <td>1467810917</td>\n",
              "      <td>Mon Apr 06 22:19:53 PDT 2009</td>\n",
              "      <td>NO_QUERY</td>\n",
              "      <td>mattycus</td>\n",
              "      <td>@Kenichan I dived many times for the ball. Man...</td>\n",
              "    </tr>\n",
              "    <tr>\n",
              "      <th>3</th>\n",
              "      <td>0</td>\n",
              "      <td>1467811184</td>\n",
              "      <td>Mon Apr 06 22:19:57 PDT 2009</td>\n",
              "      <td>NO_QUERY</td>\n",
              "      <td>ElleCTF</td>\n",
              "      <td>my whole body feels itchy and like its on fire</td>\n",
              "    </tr>\n",
              "    <tr>\n",
              "      <th>4</th>\n",
              "      <td>0</td>\n",
              "      <td>1467811193</td>\n",
              "      <td>Mon Apr 06 22:19:57 PDT 2009</td>\n",
              "      <td>NO_QUERY</td>\n",
              "      <td>Karoli</td>\n",
              "      <td>@nationwideclass no, it's not behaving at all....</td>\n",
              "    </tr>\n",
              "  </tbody>\n",
              "</table>\n",
              "</div>"
            ],
            "text/plain": [
              "   0  ...                                                  5\n",
              "0  0  ...  @switchfoot http://twitpic.com/2y1zl - Awww, t...\n",
              "1  0  ...  is upset that he can't update his Facebook by ...\n",
              "2  0  ...  @Kenichan I dived many times for the ball. Man...\n",
              "3  0  ...    my whole body feels itchy and like its on fire \n",
              "4  0  ...  @nationwideclass no, it's not behaving at all....\n",
              "\n",
              "[5 rows x 6 columns]"
            ]
          },
          "metadata": {
            "tags": []
          },
          "execution_count": 7
        }
      ]
    },
    {
      "cell_type": "code",
      "metadata": {
        "id": "i8NNGAe_imEs"
      },
      "source": [
        "tweetsDF[\"sentiment_cat\"] = tweetsDF[0].astype('category')\n",
        "tweetsDF[\"sentiment\"] = tweetsDF[\"sentiment_cat\"].cat.codes\n",
        "tweetsDF.to_csv(\"train-processed.csv\", header=None, index=None)      \n",
        "tweetsDF.sample(10000).to_csv(\"train-processed-sample.csv\", header=None, index=None)"
      ],
      "execution_count": 8,
      "outputs": []
    },
    {
      "cell_type": "code",
      "metadata": {
        "id": "6Jwjrpvti64d"
      },
      "source": [
        "LABEL = data.LabelField()\n",
        "TWEET = data.Field(tokenize='spacy', lower=True)\n",
        "\n",
        "fields = [('score',None), ('id',None),('date',None),('query',None),\n",
        "      ('name',None),\n",
        "      ('tweet', TWEET),('category',None),('label',LABEL)]"
      ],
      "execution_count": 9,
      "outputs": []
    },
    {
      "cell_type": "code",
      "metadata": {
        "id": "RLKKKGhUjOj7"
      },
      "source": [
        "#Create our Dataset and DataLoaders\n",
        "twitterDataset = torchtext.data.TabularDataset(\n",
        "        path=\"train-processed-sample.csv\", \n",
        "        format=\"CSV\", \n",
        "        fields=fields,\n",
        "        skip_header=False)"
      ],
      "execution_count": 10,
      "outputs": []
    },
    {
      "cell_type": "code",
      "metadata": {
        "colab": {
          "base_uri": "https://localhost:8080/"
        },
        "id": "yL4KqkY8jZtd",
        "outputId": "21745a64-d386-426e-ccb3-19606c48539d"
      },
      "source": [
        "(train, test, valid)=twitterDataset.split(split_ratio=[0.6,0.2,0.2],stratified=True, strata_field='label')\n",
        "\n",
        "(len(train),len(test),len(valid))"
      ],
      "execution_count": 11,
      "outputs": [
        {
          "output_type": "execute_result",
          "data": {
            "text/plain": [
              "(6000, 2000, 2000)"
            ]
          },
          "metadata": {
            "tags": []
          },
          "execution_count": 11
        }
      ]
    },
    {
      "cell_type": "code",
      "metadata": {
        "colab": {
          "base_uri": "https://localhost:8080/"
        },
        "id": "SYgElBYKji_d",
        "outputId": "ba2a1720-e7dd-47e4-ffa6-c216d64a6955"
      },
      "source": [
        "vocab_size = 20000\n",
        "TWEET.build_vocab(train, max_size = vocab_size)\n",
        "LABEL.build_vocab(train)\n",
        "TWEET.vocab.freqs.most_common(10)"
      ],
      "execution_count": 12,
      "outputs": [
        {
          "output_type": "execute_result",
          "data": {
            "text/plain": [
              "[('i', 3833),\n",
              " ('!', 3439),\n",
              " ('.', 2899),\n",
              " ('to', 2163),\n",
              " (' ', 2083),\n",
              " ('the', 1906),\n",
              " (',', 1900),\n",
              " ('a', 1400),\n",
              " ('my', 1177),\n",
              " ('and', 1176)]"
            ]
          },
          "metadata": {
            "tags": []
          },
          "execution_count": 12
        }
      ]
    },
    {
      "cell_type": "code",
      "metadata": {
        "id": "yDiZoNmajmBC"
      },
      "source": [
        "train_iterator, valid_iterator, test_iterator = data.BucketIterator.splits(\n",
        "(train, valid, test), \n",
        "batch_size = 32,\n",
        "device = device,\n",
        "sort_key = lambda x: len(x.tweet),\n",
        "sort_within_batch = False)"
      ],
      "execution_count": 13,
      "outputs": []
    },
    {
      "cell_type": "code",
      "metadata": {
        "colab": {
          "base_uri": "https://localhost:8080/"
        },
        "id": "fPietNLgjpoc",
        "outputId": "8710dd21-45be-4470-88ef-c574f56ef0fb"
      },
      "source": [
        "#Our First LSTM\n",
        "class OurFirstLSTM(nn.Module):\n",
        "    def __init__(self, hidden_size, embedding_dim, vocab_size):\n",
        "        super(OurFirstLSTM, self).__init__()\n",
        "    \n",
        "        self.embedding = nn.Embedding(vocab_size, embedding_dim)\n",
        "        self.encoder = nn.LSTM(input_size=embedding_dim,  \n",
        "                hidden_size=hidden_size, num_layers=1)\n",
        "        self.predictor = nn.Linear(hidden_size, 2)\n",
        "\n",
        "    def forward(self, seq):\n",
        "        output, (hidden,_) = self.encoder(self.embedding(seq))\n",
        "        preds = self.predictor(hidden.squeeze(0))\n",
        "        return preds\n",
        "\n",
        "model = OurFirstLSTM(100,300, 20002)\n",
        "model.to(device)\n"
      ],
      "execution_count": 21,
      "outputs": [
        {
          "output_type": "execute_result",
          "data": {
            "text/plain": [
              "OurFirstLSTM(\n",
              "  (embedding): Embedding(20002, 300)\n",
              "  (encoder): LSTM(300, 100)\n",
              "  (predictor): Linear(in_features=100, out_features=2, bias=True)\n",
              ")"
            ]
          },
          "metadata": {
            "tags": []
          },
          "execution_count": 21
        }
      ]
    },
    {
      "cell_type": "code",
      "metadata": {
        "id": "MK8niOO5kk1s"
      },
      "source": [
        "#Training\n",
        "optimizer = optim.Adam(model.parameters(), lr=2e-2)\n",
        "criterion = nn.CrossEntropyLoss()\n",
        "\n",
        "def train(epochs, model, optimizer, criterion, train_iterator, valid_iterator):\n",
        "    for epoch in range(1, epochs + 1):\n",
        "     \n",
        "        training_loss = 0.0\n",
        "        valid_loss = 0.0\n",
        "        model.train()\n",
        "        for batch_idx, batch in enumerate(train_iterator):\n",
        "            optimizer.zero_grad()\n",
        "            predict = model(batch.tweet)\n",
        "            loss = criterion(predict,batch.label)\n",
        "            loss.backward()\n",
        "            optimizer.step()\n",
        "            training_loss += loss.data.item() * batch.tweet.size(0)\n",
        "        training_loss /= len(train_iterator)\n",
        " \n",
        "        \n",
        "        model.eval()\n",
        "        for batch_idx,batch in enumerate(valid_iterator):\n",
        "            predict = model(batch.tweet)\n",
        "            loss = criterion(predict,batch.label)\n",
        "            valid_loss += loss.data.item() * batch.tweet.size(0)\n",
        " \n",
        "        valid_loss /= len(valid_iterator)\n",
        "        print('Epoch: {}, Training Loss: {:.2f}, Validation Loss: {:.2f}'.format(epoch, training_loss, valid_loss))"
      ],
      "execution_count": 22,
      "outputs": []
    },
    {
      "cell_type": "code",
      "metadata": {
        "colab": {
          "base_uri": "https://localhost:8080/"
        },
        "id": "LuLnIO98l0NU",
        "outputId": "6c8946f0-b852-40b0-ac34-6b292a177bcf"
      },
      "source": [
        "train(5, model, optimizer, criterion, train_iterator, valid_iterator)"
      ],
      "execution_count": 23,
      "outputs": [
        {
          "output_type": "stream",
          "text": [
            "Epoch: 1, Training Loss: 24.58, Validation Loss: 13.20\n",
            "Epoch: 2, Training Loss: 23.72, Validation Loss: 15.32\n",
            "Epoch: 3, Training Loss: 23.44, Validation Loss: 15.11\n",
            "Epoch: 4, Training Loss: 22.90, Validation Loss: 15.80\n",
            "Epoch: 5, Training Loss: 21.71, Validation Loss: 16.25\n"
          ],
          "name": "stdout"
        }
      ]
    },
    {
      "cell_type": "code",
      "metadata": {
        "id": "mGKLF8Hjl2MY"
      },
      "source": [
        "#Making Predictions\n",
        "def classify_tweet(tweet):\n",
        "  categories = {0:\"Negative\", 1:\"Positive\"}\n",
        "  processed = TWEET.process([TWEET.preprocess(tweet)])\n",
        "  processed = processed.to(device)\n",
        "  model.eval()\n",
        "  return categories[model(processed).argmax().item()]"
      ],
      "execution_count": 24,
      "outputs": []
    },
    {
      "cell_type": "code",
      "metadata": {
        "id": "I18t8b8PnQcS"
      },
      "source": [
        "#Data Augmentation\n",
        "def random_deletion(words, p=0.5):\n",
        "  if len(words)==1:\n",
        "    return words\n",
        "  remaining = list(filter(lambda x:random.uniform(0,1) > p,words))\n",
        "  if len(remaining) == 0:\n",
        "    return [random.choice(words)]\n",
        "  else:\n",
        "    return remaining"
      ],
      "execution_count": 25,
      "outputs": []
    },
    {
      "cell_type": "code",
      "metadata": {
        "id": "0OJYU2jrnoE0"
      },
      "source": [
        "def random_swap(sentence, n=5):\n",
        "    length = range(len(sentence))\n",
        "    for _ in range(n):\n",
        "        idx1, idx2 = random.sample(length, 2)\n",
        "        sentence[idx1], sentence[idx2] = sentence[idx2], sentence[idx1]\n",
        "    return sentence"
      ],
      "execution_count": 26,
      "outputs": []
    },
    {
      "cell_type": "code",
      "metadata": {
        "id": "wfWdofkdnr6W"
      },
      "source": [
        "# Note: you'll have to define remove_stopwords() and get_synonyms() elsewhere\n",
        "\n",
        "def random_insertion(sentence,n):\n",
        "    words = remove_stopwords(sentence)\n",
        "    for _ in range(n):\n",
        "        new_synonym = get_synonyms(random.choice(words))\n",
        "        sentence.insert(randrange(len(sentence)+1), new_synonym)\n",
        "    return sentence"
      ],
      "execution_count": 27,
      "outputs": []
    },
    {
      "cell_type": "code",
      "metadata": {
        "colab": {
          "base_uri": "https://localhost:8080/"
        },
        "id": "MmLjsDUtny8u",
        "outputId": "6ab67409-03d3-4e94-9d77-570c0097f82d"
      },
      "source": [
        "from google_trans_new import google_translator \n",
        "import random\n",
        "\n",
        "translator = google_translator()\n",
        "\n",
        "sentences = ['The cat sat on the mat']\n",
        "\n",
        "translations_fr = translator.translate(sentences, lang_tgt='fr')\n",
        "translations_en = translator.translate(translations_fr, lang_tgt='en')\n",
        "print(translations_en)   \n",
        "\n",
        "available_langs = list(googletrans.LANGUAGES.keys())\n",
        "tr_lang = random.choice(available_langs)\n",
        "print(f\"Translating to {googletrans.LANGUAGES[tr_lang]}\")\n",
        "\n",
        "translations = translator.translate(sentences, lang_tgt=tr_lang)\n",
        "print(translations)\n",
        "\n",
        "translations_en_random = translator.translate(t_text, lang_tgt=\"en\", lang_src=tr_lang)\n",
        "print(translations_en_random)"
      ],
      "execution_count": 41,
      "outputs": [
        {
          "output_type": "stream",
          "text": [
            "['The cat sat on the carpet'] \n",
            "Translating to italian\n",
            "['Il gatto si è seduto sul tappetino'] \n",
            "['[', \"'\",' K ',' u ',' c ',' i ',' n ',' g ',' ',' i ',' t ',' u ',' ' , 'd', 'u', 'd', 'u', 'k', '', 'd', 'i', '', 'a', 't', 'a', 's' , '', 't', 'i', 'k', 'a', 'r', \"'\",'] ',' '] \n"
          ],
          "name": "stdout"
        }
      ]
    },
    {
      "cell_type": "code",
      "metadata": {
        "id": "E4EcHBeNn31x"
      },
      "source": [
        ""
      ],
      "execution_count": null,
      "outputs": []
    }
  ]
}