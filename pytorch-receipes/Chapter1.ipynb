{
  "nbformat": 4,
  "nbformat_minor": 0,
  "metadata": {
    "colab": {
      "name": "Pytorch_receipes1.ipynb",
      "provenance": []
    },
    "kernelspec": {
      "name": "python3",
      "display_name": "Python 3"
    },
    "accelerator": "GPU"
  },
  "cells": [
    {
      "cell_type": "code",
      "metadata": {
        "colab": {
          "base_uri": "https://localhost:8080/"
        },
        "id": "9neQJaIGYqmA",
        "outputId": "e23fd8a4-1129-463a-8db0-c949f89a7b6b"
      },
      "source": [
        "from __future__ import print_function\n",
        "import torch\n",
        "print(torch.__version__)"
      ],
      "execution_count": 1,
      "outputs": [
        {
          "output_type": "stream",
          "text": [
            "1.7.0+cu101\n"
          ],
          "name": "stdout"
        }
      ]
    },
    {
      "cell_type": "code",
      "metadata": {
        "id": "pgirIPDyY3lI"
      },
      "source": [
        "x = [12,23,34,45,56,67,78]"
      ],
      "execution_count": 2,
      "outputs": []
    },
    {
      "cell_type": "code",
      "metadata": {
        "colab": {
          "base_uri": "https://localhost:8080/"
        },
        "id": "0Lo541gFZ-45",
        "outputId": "c75e91c1-4d92-4aeb-cc8b-4f06b54187d2"
      },
      "source": [
        "torch.is_tensor(x)"
      ],
      "execution_count": 3,
      "outputs": [
        {
          "output_type": "execute_result",
          "data": {
            "text/plain": [
              "False"
            ]
          },
          "metadata": {
            "tags": []
          },
          "execution_count": 3
        }
      ]
    },
    {
      "cell_type": "code",
      "metadata": {
        "colab": {
          "base_uri": "https://localhost:8080/"
        },
        "id": "jgXdE2K1aHT7",
        "outputId": "f50b2a75-3189-4004-dd42-1d3d185e5573"
      },
      "source": [
        "torch.is_storage(x)"
      ],
      "execution_count": 4,
      "outputs": [
        {
          "output_type": "execute_result",
          "data": {
            "text/plain": [
              "False"
            ]
          },
          "metadata": {
            "tags": []
          },
          "execution_count": 4
        }
      ]
    },
    {
      "cell_type": "code",
      "metadata": {
        "id": "b5LnGVe2aK_Z"
      },
      "source": [
        "y = torch.randn(1,2,3,4,5)"
      ],
      "execution_count": 5,
      "outputs": []
    },
    {
      "cell_type": "code",
      "metadata": {
        "colab": {
          "base_uri": "https://localhost:8080/"
        },
        "id": "EDYqGISsaO9q",
        "outputId": "9124ca49-4499-4173-a83f-a0f9ba2c2e24"
      },
      "source": [
        "torch.is_tensor(y)"
      ],
      "execution_count": 6,
      "outputs": [
        {
          "output_type": "execute_result",
          "data": {
            "text/plain": [
              "True"
            ]
          },
          "metadata": {
            "tags": []
          },
          "execution_count": 6
        }
      ]
    },
    {
      "cell_type": "code",
      "metadata": {
        "colab": {
          "base_uri": "https://localhost:8080/"
        },
        "id": "0oYyKpPxaSR8",
        "outputId": "eeccc5fc-e01c-47fa-d5c0-782ee25ea160"
      },
      "source": [
        "torch.is_storage(y)"
      ],
      "execution_count": 7,
      "outputs": [
        {
          "output_type": "execute_result",
          "data": {
            "text/plain": [
              "False"
            ]
          },
          "metadata": {
            "tags": []
          },
          "execution_count": 7
        }
      ]
    },
    {
      "cell_type": "code",
      "metadata": {
        "colab": {
          "base_uri": "https://localhost:8080/"
        },
        "id": "rH32klGdaVyo",
        "outputId": "a29767a6-07a4-48b3-dada-d8a75b31a925"
      },
      "source": [
        "torch.numel(y) #the total number of elements in the input tensor"
      ],
      "execution_count": 8,
      "outputs": [
        {
          "output_type": "execute_result",
          "data": {
            "text/plain": [
              "120"
            ]
          },
          "metadata": {
            "tags": []
          },
          "execution_count": 8
        }
      ]
    },
    {
      "cell_type": "code",
      "metadata": {
        "colab": {
          "base_uri": "https://localhost:8080/"
        },
        "id": "75eDpQZHaZNL",
        "outputId": "47ae53e6-1178-48bb-8684-7315a4c6b123"
      },
      "source": [
        "torch.zeros(4,4)"
      ],
      "execution_count": 9,
      "outputs": [
        {
          "output_type": "execute_result",
          "data": {
            "text/plain": [
              "tensor([[0., 0., 0., 0.],\n",
              "        [0., 0., 0., 0.],\n",
              "        [0., 0., 0., 0.],\n",
              "        [0., 0., 0., 0.]])"
            ]
          },
          "metadata": {
            "tags": []
          },
          "execution_count": 9
        }
      ]
    },
    {
      "cell_type": "code",
      "metadata": {
        "colab": {
          "base_uri": "https://localhost:8080/"
        },
        "id": "HUflDa3sasHN",
        "outputId": "4d899d9f-9a4d-4f3e-992c-9ba4c9aef758"
      },
      "source": [
        "torch.numel(torch.zeros(4,4))"
      ],
      "execution_count": 10,
      "outputs": [
        {
          "output_type": "execute_result",
          "data": {
            "text/plain": [
              "16"
            ]
          },
          "metadata": {
            "tags": []
          },
          "execution_count": 10
        }
      ]
    },
    {
      "cell_type": "code",
      "metadata": {
        "colab": {
          "base_uri": "https://localhost:8080/"
        },
        "id": "XvBJ55XVawSH",
        "outputId": "31381751-b380-47c4-e7e5-da6cbea2f495"
      },
      "source": [
        "torch.eye(3,4)"
      ],
      "execution_count": 11,
      "outputs": [
        {
          "output_type": "execute_result",
          "data": {
            "text/plain": [
              "tensor([[1., 0., 0., 0.],\n",
              "        [0., 1., 0., 0.],\n",
              "        [0., 0., 1., 0.]])"
            ]
          },
          "metadata": {
            "tags": []
          },
          "execution_count": 11
        }
      ]
    },
    {
      "cell_type": "code",
      "metadata": {
        "colab": {
          "base_uri": "https://localhost:8080/"
        },
        "id": "U6BToXGGa1U0",
        "outputId": "9a6de7ad-78b9-4e8f-9ff4-d5ff0af77507"
      },
      "source": [
        "torch.eye(5,4)"
      ],
      "execution_count": 12,
      "outputs": [
        {
          "output_type": "execute_result",
          "data": {
            "text/plain": [
              "tensor([[1., 0., 0., 0.],\n",
              "        [0., 1., 0., 0.],\n",
              "        [0., 0., 1., 0.],\n",
              "        [0., 0., 0., 1.],\n",
              "        [0., 0., 0., 0.]])"
            ]
          },
          "metadata": {
            "tags": []
          },
          "execution_count": 12
        }
      ]
    },
    {
      "cell_type": "code",
      "metadata": {
        "id": "FVAHtVuBa4A2"
      },
      "source": [
        "import numpy as np\n",
        "x1 = np.array(x)"
      ],
      "execution_count": 13,
      "outputs": []
    },
    {
      "cell_type": "code",
      "metadata": {
        "colab": {
          "base_uri": "https://localhost:8080/"
        },
        "id": "K0yENTLybAW1",
        "outputId": "21964a34-5651-4d3a-c041-9afda449ab73"
      },
      "source": [
        "x1"
      ],
      "execution_count": 14,
      "outputs": [
        {
          "output_type": "execute_result",
          "data": {
            "text/plain": [
              "array([12, 23, 34, 45, 56, 67, 78])"
            ]
          },
          "metadata": {
            "tags": []
          },
          "execution_count": 14
        }
      ]
    },
    {
      "cell_type": "code",
      "metadata": {
        "colab": {
          "base_uri": "https://localhost:8080/"
        },
        "id": "wIhswaQLbBmU",
        "outputId": "61e75487-4d9e-49d4-d565-6919216dc61d"
      },
      "source": [
        "torch.from_numpy(x1)"
      ],
      "execution_count": 15,
      "outputs": [
        {
          "output_type": "execute_result",
          "data": {
            "text/plain": [
              "tensor([12, 23, 34, 45, 56, 67, 78])"
            ]
          },
          "metadata": {
            "tags": []
          },
          "execution_count": 15
        }
      ]
    },
    {
      "cell_type": "code",
      "metadata": {
        "colab": {
          "base_uri": "https://localhost:8080/"
        },
        "id": "pQjnxcu0bIdX",
        "outputId": "71a5af80-615f-4bd1-a241-3e65abc88100"
      },
      "source": [
        "x1"
      ],
      "execution_count": 16,
      "outputs": [
        {
          "output_type": "execute_result",
          "data": {
            "text/plain": [
              "array([12, 23, 34, 45, 56, 67, 78])"
            ]
          },
          "metadata": {
            "tags": []
          },
          "execution_count": 16
        }
      ]
    },
    {
      "cell_type": "code",
      "metadata": {
        "colab": {
          "base_uri": "https://localhost:8080/"
        },
        "id": "YUHCJQGlbJ6H",
        "outputId": "46f46b38-5b5e-475a-995d-228a4cc6e2ea"
      },
      "source": [
        "torch.from_numpy(x1)"
      ],
      "execution_count": 17,
      "outputs": [
        {
          "output_type": "execute_result",
          "data": {
            "text/plain": [
              "tensor([12, 23, 34, 45, 56, 67, 78])"
            ]
          },
          "metadata": {
            "tags": []
          },
          "execution_count": 17
        }
      ]
    },
    {
      "cell_type": "code",
      "metadata": {
        "colab": {
          "base_uri": "https://localhost:8080/"
        },
        "id": "7HEqCTLAbN5m",
        "outputId": "45da98d2-ccc1-4357-b1cd-fb66233988ff"
      },
      "source": [
        "torch.linspace(2,10,steps=25) #linear spacing"
      ],
      "execution_count": 18,
      "outputs": [
        {
          "output_type": "execute_result",
          "data": {
            "text/plain": [
              "tensor([ 2.0000,  2.3333,  2.6667,  3.0000,  3.3333,  3.6667,  4.0000,  4.3333,\n",
              "         4.6667,  5.0000,  5.3333,  5.6667,  6.0000,  6.3333,  6.6667,  7.0000,\n",
              "         7.3333,  7.6667,  8.0000,  8.3333,  8.6667,  9.0000,  9.3333,  9.6667,\n",
              "        10.0000])"
            ]
          },
          "metadata": {
            "tags": []
          },
          "execution_count": 18
        }
      ]
    },
    {
      "cell_type": "code",
      "metadata": {
        "colab": {
          "base_uri": "https://localhost:8080/"
        },
        "id": "hWlYsKXCbZTM",
        "outputId": "3ae72b27-07ae-4deb-e89e-1d474c962e60"
      },
      "source": [
        "torch.logspace(start=-10, end=10, steps=15) #logarithmic spacing"
      ],
      "execution_count": 19,
      "outputs": [
        {
          "output_type": "execute_result",
          "data": {
            "text/plain": [
              "tensor([1.0000e-10, 2.6827e-09, 7.1969e-08, 1.9307e-06, 5.1795e-05, 1.3895e-03,\n",
              "        3.7276e-02, 1.0000e+00, 2.6827e+01, 7.1969e+02, 1.9307e+04, 5.1795e+05,\n",
              "        1.3895e+07, 3.7276e+08, 1.0000e+10])"
            ]
          },
          "metadata": {
            "tags": []
          },
          "execution_count": 19
        }
      ]
    },
    {
      "cell_type": "code",
      "metadata": {
        "colab": {
          "base_uri": "https://localhost:8080/"
        },
        "id": "A_BS63Kpbuat",
        "outputId": "7e57d1f4-2883-4074-d78d-381ffc06935e"
      },
      "source": [
        "#random numbers from a uniform distribution between values 0 and 1\n",
        "torch.rand(10)"
      ],
      "execution_count": 20,
      "outputs": [
        {
          "output_type": "execute_result",
          "data": {
            "text/plain": [
              "tensor([0.7953, 0.2036, 0.1776, 0.4704, 0.2197, 0.6589, 0.4130, 0.6079, 0.4592,\n",
              "        0.6864])"
            ]
          },
          "metadata": {
            "tags": []
          },
          "execution_count": 20
        }
      ]
    },
    {
      "cell_type": "code",
      "metadata": {
        "colab": {
          "base_uri": "https://localhost:8080/"
        },
        "id": "8tFWxE0yb6vG",
        "outputId": "45f55c0f-dd1b-4e89-d21b-2ccb5623aad8"
      },
      "source": [
        "#random values between 0 and 1 and filled with a matrix of size r=4, c=5\n",
        "torch.rand(4,5)"
      ],
      "execution_count": 21,
      "outputs": [
        {
          "output_type": "execute_result",
          "data": {
            "text/plain": [
              "tensor([[0.8660, 0.1776, 0.1493, 0.8221, 0.8905],\n",
              "        [0.4139, 0.5677, 0.2979, 0.6176, 0.9156],\n",
              "        [0.9734, 0.8620, 0.9893, 0.4049, 0.7431],\n",
              "        [0.2923, 0.9626, 0.6680, 0.7954, 0.1070]])"
            ]
          },
          "metadata": {
            "tags": []
          },
          "execution_count": 21
        }
      ]
    },
    {
      "cell_type": "code",
      "metadata": {
        "colab": {
          "base_uri": "https://localhost:8080/"
        },
        "id": "02vOtY5VcL7s",
        "outputId": "d42ea122-0d79-4a4f-a7c1-41b357d84b09"
      },
      "source": [
        "#random numbers from a normal distribution, with mean=0 and standard deviation=1\n",
        "torch.randn(10)"
      ],
      "execution_count": 22,
      "outputs": [
        {
          "output_type": "execute_result",
          "data": {
            "text/plain": [
              "tensor([-0.5064,  1.1752, -0.8740, -0.2948,  0.3329,  0.3158,  0.0081, -0.2146,\n",
              "         0.2645,  0.3751])"
            ]
          },
          "metadata": {
            "tags": []
          },
          "execution_count": 22
        }
      ]
    },
    {
      "cell_type": "code",
      "metadata": {
        "colab": {
          "base_uri": "https://localhost:8080/"
        },
        "id": "Hb5X2VedcZw1",
        "outputId": "599fefb2-17fa-4053-e7ba-f73996f930f7"
      },
      "source": [
        "torch.randn(4,5)"
      ],
      "execution_count": 23,
      "outputs": [
        {
          "output_type": "execute_result",
          "data": {
            "text/plain": [
              "tensor([[ 0.5499, -1.3084, -0.6704,  0.0555,  0.4978],\n",
              "        [-0.3096,  2.7673,  0.7748, -1.1732,  0.5333],\n",
              "        [ 1.5779,  0.3263, -0.3803, -0.2927, -0.0712],\n",
              "        [-0.7052,  0.7908,  0.0421,  0.5545,  1.4302]])"
            ]
          },
          "metadata": {
            "tags": []
          },
          "execution_count": 23
        }
      ]
    },
    {
      "cell_type": "code",
      "metadata": {
        "colab": {
          "base_uri": "https://localhost:8080/"
        },
        "id": "kPJuaIeocghq",
        "outputId": "a2da714e-cd38-4a3c-d1ce-98784cd86dfb"
      },
      "source": [
        "#selecting values from a range, this is called random permutation\n",
        "torch.randperm(10)"
      ],
      "execution_count": 24,
      "outputs": [
        {
          "output_type": "execute_result",
          "data": {
            "text/plain": [
              "tensor([6, 4, 0, 3, 7, 8, 2, 9, 1, 5])"
            ]
          },
          "metadata": {
            "tags": []
          },
          "execution_count": 24
        }
      ]
    },
    {
      "cell_type": "code",
      "metadata": {
        "colab": {
          "base_uri": "https://localhost:8080/"
        },
        "id": "pm3zikXicufc",
        "outputId": "6405089f-c06a-4b2e-c616-7c5ba796bdce"
      },
      "source": [
        "#usage of a range function\n",
        "torch.arange(10,40,2)"
      ],
      "execution_count": 25,
      "outputs": [
        {
          "output_type": "execute_result",
          "data": {
            "text/plain": [
              "tensor([10, 12, 14, 16, 18, 20, 22, 24, 26, 28, 30, 32, 34, 36, 38])"
            ]
          },
          "metadata": {
            "tags": []
          },
          "execution_count": 25
        }
      ]
    },
    {
      "cell_type": "code",
      "metadata": {
        "colab": {
          "base_uri": "https://localhost:8080/"
        },
        "id": "QgRLoVn7c0HH",
        "outputId": "14992940-1e26-4c61-ac83-ed0b758b4ef9"
      },
      "source": [
        "torch.arange(10,40)"
      ],
      "execution_count": 26,
      "outputs": [
        {
          "output_type": "execute_result",
          "data": {
            "text/plain": [
              "tensor([10, 11, 12, 13, 14, 15, 16, 17, 18, 19, 20, 21, 22, 23, 24, 25, 26, 27,\n",
              "        28, 29, 30, 31, 32, 33, 34, 35, 36, 37, 38, 39])"
            ]
          },
          "metadata": {
            "tags": []
          },
          "execution_count": 26
        }
      ]
    },
    {
      "cell_type": "code",
      "metadata": {
        "colab": {
          "base_uri": "https://localhost:8080/"
        },
        "id": "SKn-9Af4c3Vy",
        "outputId": "63b9af28-a379-419c-c6bc-1f4c44a2b67a"
      },
      "source": [
        "d = torch.randn(4,5)\n",
        "d"
      ],
      "execution_count": 27,
      "outputs": [
        {
          "output_type": "execute_result",
          "data": {
            "text/plain": [
              "tensor([[-0.1918,  1.6135,  0.9606,  0.8630, -0.2177],\n",
              "        [ 1.3191, -0.8313, -0.2564,  1.2866, -0.6553],\n",
              "        [-1.1986, -0.2085, -0.2025,  0.5068,  0.6858],\n",
              "        [ 0.1435,  0.3639,  0.5893, -0.3148,  0.1889]])"
            ]
          },
          "metadata": {
            "tags": []
          },
          "execution_count": 27
        }
      ]
    },
    {
      "cell_type": "code",
      "metadata": {
        "colab": {
          "base_uri": "https://localhost:8080/"
        },
        "id": "Rbc_VDYyc9T2",
        "outputId": "68f8cd45-5fc3-452b-f58a-44b307f93343"
      },
      "source": [
        "torch.argmin(d,dim=1)"
      ],
      "execution_count": 28,
      "outputs": [
        {
          "output_type": "execute_result",
          "data": {
            "text/plain": [
              "tensor([4, 1, 0, 3])"
            ]
          },
          "metadata": {
            "tags": []
          },
          "execution_count": 28
        }
      ]
    },
    {
      "cell_type": "code",
      "metadata": {
        "colab": {
          "base_uri": "https://localhost:8080/"
        },
        "id": "1c-ZdkYxdEip",
        "outputId": "1d9201a5-2feb-46b4-a32d-87bfb904f4a0"
      },
      "source": [
        "torch.argmax(d,dim=1)"
      ],
      "execution_count": 29,
      "outputs": [
        {
          "output_type": "execute_result",
          "data": {
            "text/plain": [
              "tensor([1, 0, 4, 2])"
            ]
          },
          "metadata": {
            "tags": []
          },
          "execution_count": 29
        }
      ]
    },
    {
      "cell_type": "code",
      "metadata": {
        "colab": {
          "base_uri": "https://localhost:8080/"
        },
        "id": "AuDiUeJddJHa",
        "outputId": "56965d43-1b01-4ab1-c9e7-540569f27359"
      },
      "source": [
        "#create a 2dtensor filled with values 0\n",
        "torch.zeros(4,5)"
      ],
      "execution_count": 30,
      "outputs": [
        {
          "output_type": "execute_result",
          "data": {
            "text/plain": [
              "tensor([[0., 0., 0., 0., 0.],\n",
              "        [0., 0., 0., 0., 0.],\n",
              "        [0., 0., 0., 0., 0.],\n",
              "        [0., 0., 0., 0., 0.]])"
            ]
          },
          "metadata": {
            "tags": []
          },
          "execution_count": 30
        }
      ]
    },
    {
      "cell_type": "code",
      "metadata": {
        "colab": {
          "base_uri": "https://localhost:8080/"
        },
        "id": "M0OXPKiSdXHM",
        "outputId": "ba77fa14-3749-413e-9d09-527935b556f4"
      },
      "source": [
        "#create a 1dtensor filled with values 0\n",
        "torch.zeros(10)"
      ],
      "execution_count": 31,
      "outputs": [
        {
          "output_type": "execute_result",
          "data": {
            "text/plain": [
              "tensor([0., 0., 0., 0., 0., 0., 0., 0., 0., 0.])"
            ]
          },
          "metadata": {
            "tags": []
          },
          "execution_count": 31
        }
      ]
    },
    {
      "cell_type": "code",
      "metadata": {
        "colab": {
          "base_uri": "https://localhost:8080/"
        },
        "id": "W5S1V1G8ddv1",
        "outputId": "d2d36f5f-812a-4b1d-927f-afdaf7a54da2"
      },
      "source": [
        "#indexing and performing operation on the tensots\n",
        "x = torch.randn(4,5)\n",
        "x"
      ],
      "execution_count": 32,
      "outputs": [
        {
          "output_type": "execute_result",
          "data": {
            "text/plain": [
              "tensor([[ 0.0400, -2.6917, -0.1639, -0.8902, -1.0122],\n",
              "        [-0.0989, -0.7946,  1.3330,  0.4503, -0.8978],\n",
              "        [ 0.2297,  0.2028, -0.2107, -0.6108, -0.4982],\n",
              "        [ 0.5610, -0.6072,  1.9183, -0.3056,  1.1050]])"
            ]
          },
          "metadata": {
            "tags": []
          },
          "execution_count": 32
        }
      ]
    },
    {
      "cell_type": "code",
      "metadata": {
        "colab": {
          "base_uri": "https://localhost:8080/"
        },
        "id": "OiopT2w0dmYM",
        "outputId": "6a74bb9e-264a-4741-a002-450151fe3752"
      },
      "source": [
        "#concatenate two tensors\n",
        "torch.cat((x,x))"
      ],
      "execution_count": 33,
      "outputs": [
        {
          "output_type": "execute_result",
          "data": {
            "text/plain": [
              "tensor([[ 0.0400, -2.6917, -0.1639, -0.8902, -1.0122],\n",
              "        [-0.0989, -0.7946,  1.3330,  0.4503, -0.8978],\n",
              "        [ 0.2297,  0.2028, -0.2107, -0.6108, -0.4982],\n",
              "        [ 0.5610, -0.6072,  1.9183, -0.3056,  1.1050],\n",
              "        [ 0.0400, -2.6917, -0.1639, -0.8902, -1.0122],\n",
              "        [-0.0989, -0.7946,  1.3330,  0.4503, -0.8978],\n",
              "        [ 0.2297,  0.2028, -0.2107, -0.6108, -0.4982],\n",
              "        [ 0.5610, -0.6072,  1.9183, -0.3056,  1.1050]])"
            ]
          },
          "metadata": {
            "tags": []
          },
          "execution_count": 33
        }
      ]
    },
    {
      "cell_type": "code",
      "metadata": {
        "colab": {
          "base_uri": "https://localhost:8080/"
        },
        "id": "rtn6ix1tdsMW",
        "outputId": "80a8ba00-493a-4687-dda7-05a5ec61c376"
      },
      "source": [
        "#concatenate n times based on array size over column\n",
        "torch.cat((x,x,x),1)"
      ],
      "execution_count": 34,
      "outputs": [
        {
          "output_type": "execute_result",
          "data": {
            "text/plain": [
              "tensor([[ 0.0400, -2.6917, -0.1639, -0.8902, -1.0122,  0.0400, -2.6917, -0.1639,\n",
              "         -0.8902, -1.0122,  0.0400, -2.6917, -0.1639, -0.8902, -1.0122],\n",
              "        [-0.0989, -0.7946,  1.3330,  0.4503, -0.8978, -0.0989, -0.7946,  1.3330,\n",
              "          0.4503, -0.8978, -0.0989, -0.7946,  1.3330,  0.4503, -0.8978],\n",
              "        [ 0.2297,  0.2028, -0.2107, -0.6108, -0.4982,  0.2297,  0.2028, -0.2107,\n",
              "         -0.6108, -0.4982,  0.2297,  0.2028, -0.2107, -0.6108, -0.4982],\n",
              "        [ 0.5610, -0.6072,  1.9183, -0.3056,  1.1050,  0.5610, -0.6072,  1.9183,\n",
              "         -0.3056,  1.1050,  0.5610, -0.6072,  1.9183, -0.3056,  1.1050]])"
            ]
          },
          "metadata": {
            "tags": []
          },
          "execution_count": 34
        }
      ]
    },
    {
      "cell_type": "code",
      "metadata": {
        "colab": {
          "base_uri": "https://localhost:8080/"
        },
        "id": "RMXLWhKcd5lK",
        "outputId": "b1122c0f-c500-4bc2-d43c-b3fcc11235e0"
      },
      "source": [
        "#concatenate n times based on array size over row\n",
        "torch.cat((x,x,x),0)"
      ],
      "execution_count": 35,
      "outputs": [
        {
          "output_type": "execute_result",
          "data": {
            "text/plain": [
              "tensor([[ 0.0400, -2.6917, -0.1639, -0.8902, -1.0122],\n",
              "        [-0.0989, -0.7946,  1.3330,  0.4503, -0.8978],\n",
              "        [ 0.2297,  0.2028, -0.2107, -0.6108, -0.4982],\n",
              "        [ 0.5610, -0.6072,  1.9183, -0.3056,  1.1050],\n",
              "        [ 0.0400, -2.6917, -0.1639, -0.8902, -1.0122],\n",
              "        [-0.0989, -0.7946,  1.3330,  0.4503, -0.8978],\n",
              "        [ 0.2297,  0.2028, -0.2107, -0.6108, -0.4982],\n",
              "        [ 0.5610, -0.6072,  1.9183, -0.3056,  1.1050],\n",
              "        [ 0.0400, -2.6917, -0.1639, -0.8902, -1.0122],\n",
              "        [-0.0989, -0.7946,  1.3330,  0.4503, -0.8978],\n",
              "        [ 0.2297,  0.2028, -0.2107, -0.6108, -0.4982],\n",
              "        [ 0.5610, -0.6072,  1.9183, -0.3056,  1.1050]])"
            ]
          },
          "metadata": {
            "tags": []
          },
          "execution_count": 35
        }
      ]
    },
    {
      "cell_type": "code",
      "metadata": {
        "colab": {
          "base_uri": "https://localhost:8080/"
        },
        "id": "3gqi2MKNeHKC",
        "outputId": "d178c99e-0ebb-4d8c-c622-157948bf43e9"
      },
      "source": [
        "a = torch.randn(4,4)\n",
        "a"
      ],
      "execution_count": 36,
      "outputs": [
        {
          "output_type": "execute_result",
          "data": {
            "text/plain": [
              "tensor([[-1.3936, -0.3666, -0.8261, -1.5785],\n",
              "        [ 0.1440,  1.2895, -0.6238, -0.7619],\n",
              "        [-0.2672, -0.9628, -0.5209,  2.3614],\n",
              "        [-1.7636, -0.2729, -1.1446,  0.5847]])"
            ]
          },
          "metadata": {
            "tags": []
          },
          "execution_count": 36
        }
      ]
    },
    {
      "cell_type": "code",
      "metadata": {
        "colab": {
          "base_uri": "https://localhost:8080/"
        },
        "id": "r4SPJDHVfUz2",
        "outputId": "62c05139-454f-4f58-aef8-4081efc72226"
      },
      "source": [
        "torch.chunk(a,2)"
      ],
      "execution_count": 37,
      "outputs": [
        {
          "output_type": "execute_result",
          "data": {
            "text/plain": [
              "(tensor([[-1.3936, -0.3666, -0.8261, -1.5785],\n",
              "         [ 0.1440,  1.2895, -0.6238, -0.7619]]),\n",
              " tensor([[-0.2672, -0.9628, -0.5209,  2.3614],\n",
              "         [-1.7636, -0.2729, -1.1446,  0.5847]]))"
            ]
          },
          "metadata": {
            "tags": []
          },
          "execution_count": 37
        }
      ]
    },
    {
      "cell_type": "code",
      "metadata": {
        "colab": {
          "base_uri": "https://localhost:8080/"
        },
        "id": "MzFvR_ySfXNA",
        "outputId": "b035d1f3-5c42-42bf-9880-ed00f1a58e44"
      },
      "source": [
        "torch.chunk(a,2,0)"
      ],
      "execution_count": 38,
      "outputs": [
        {
          "output_type": "execute_result",
          "data": {
            "text/plain": [
              "(tensor([[-1.3936, -0.3666, -0.8261, -1.5785],\n",
              "         [ 0.1440,  1.2895, -0.6238, -0.7619]]),\n",
              " tensor([[-0.2672, -0.9628, -0.5209,  2.3614],\n",
              "         [-1.7636, -0.2729, -1.1446,  0.5847]]))"
            ]
          },
          "metadata": {
            "tags": []
          },
          "execution_count": 38
        }
      ]
    },
    {
      "cell_type": "code",
      "metadata": {
        "colab": {
          "base_uri": "https://localhost:8080/"
        },
        "id": "5GD3MDokfbbp",
        "outputId": "6523f36e-4169-4041-8f47-f77f227102b0"
      },
      "source": [
        "torch.chunk(a,2,1)"
      ],
      "execution_count": 39,
      "outputs": [
        {
          "output_type": "execute_result",
          "data": {
            "text/plain": [
              "(tensor([[-1.3936, -0.3666],\n",
              "         [ 0.1440,  1.2895],\n",
              "         [-0.2672, -0.9628],\n",
              "         [-1.7636, -0.2729]]), tensor([[-0.8261, -1.5785],\n",
              "         [-0.6238, -0.7619],\n",
              "         [-0.5209,  2.3614],\n",
              "         [-1.1446,  0.5847]]))"
            ]
          },
          "metadata": {
            "tags": []
          },
          "execution_count": 39
        }
      ]
    },
    {
      "cell_type": "code",
      "metadata": {
        "colab": {
          "base_uri": "https://localhost:8080/"
        },
        "id": "wOPw6hQpfexy",
        "outputId": "60c456f6-892a-468e-83b9-4bc58bb963e8"
      },
      "source": [
        "torch.Tensor([[11,12],[23,24]])"
      ],
      "execution_count": 40,
      "outputs": [
        {
          "output_type": "execute_result",
          "data": {
            "text/plain": [
              "tensor([[11., 12.],\n",
              "        [23., 24.]])"
            ]
          },
          "metadata": {
            "tags": []
          },
          "execution_count": 40
        }
      ]
    },
    {
      "cell_type": "code",
      "metadata": {
        "colab": {
          "base_uri": "https://localhost:8080/"
        },
        "id": "aKoH83hrfqsd",
        "outputId": "4dc84652-114b-4455-aeac-8a7e19eec41b"
      },
      "source": [
        "torch.gather(torch.Tensor([[11,12],[23,24]]),1,\n",
        "             torch.LongTensor([[0,0],[1,0]]))"
      ],
      "execution_count": 41,
      "outputs": [
        {
          "output_type": "execute_result",
          "data": {
            "text/plain": [
              "tensor([[11., 11.],\n",
              "        [24., 23.]])"
            ]
          },
          "metadata": {
            "tags": []
          },
          "execution_count": 41
        }
      ]
    },
    {
      "cell_type": "code",
      "metadata": {
        "colab": {
          "base_uri": "https://localhost:8080/"
        },
        "id": "Pa77lEXGf1lO",
        "outputId": "0c4cea5d-40f1-45da-d087-0cc11a1eb7bc"
      },
      "source": [
        "torch.LongTensor([[0,0],[1,0]])\n",
        "#the 1D tensor containing the indices to index"
      ],
      "execution_count": 42,
      "outputs": [
        {
          "output_type": "execute_result",
          "data": {
            "text/plain": [
              "tensor([[0, 0],\n",
              "        [1, 0]])"
            ]
          },
          "metadata": {
            "tags": []
          },
          "execution_count": 42
        }
      ]
    },
    {
      "cell_type": "code",
      "metadata": {
        "colab": {
          "base_uri": "https://localhost:8080/"
        },
        "id": "AaIQiLX3gAeW",
        "outputId": "e57bff2c-fc06-4e5b-b16f-6b3f0c23176f"
      },
      "source": [
        "a = torch.randn(4,4)\n",
        "a"
      ],
      "execution_count": 43,
      "outputs": [
        {
          "output_type": "execute_result",
          "data": {
            "text/plain": [
              "tensor([[-0.8101,  0.5741,  1.1950, -2.0509],\n",
              "        [-1.7355, -0.4397,  0.2785, -0.2125],\n",
              "        [ 1.0294, -0.2171, -1.0210,  0.8636],\n",
              "        [ 0.6111, -1.4649, -0.5750, -0.1652]])"
            ]
          },
          "metadata": {
            "tags": []
          },
          "execution_count": 43
        }
      ]
    },
    {
      "cell_type": "code",
      "metadata": {
        "id": "oQP2dqzjgGjv"
      },
      "source": [
        "indices = torch.LongTensor([0,2])"
      ],
      "execution_count": 44,
      "outputs": []
    },
    {
      "cell_type": "code",
      "metadata": {
        "colab": {
          "base_uri": "https://localhost:8080/"
        },
        "id": "4S_5YdC0gLXX",
        "outputId": "bc42d025-0c30-420f-fbfd-64f65849df7d"
      },
      "source": [
        "torch.index_select(a,0, indices)"
      ],
      "execution_count": 45,
      "outputs": [
        {
          "output_type": "execute_result",
          "data": {
            "text/plain": [
              "tensor([[-0.8101,  0.5741,  1.1950, -2.0509],\n",
              "        [ 1.0294, -0.2171, -1.0210,  0.8636]])"
            ]
          },
          "metadata": {
            "tags": []
          },
          "execution_count": 45
        }
      ]
    },
    {
      "cell_type": "code",
      "metadata": {
        "colab": {
          "base_uri": "https://localhost:8080/"
        },
        "id": "Nyhda1m9gPmU",
        "outputId": "dc8eb6e8-bcde-49ca-90c5-94d240d42d3f"
      },
      "source": [
        "torch.index_select(a,1, indices)"
      ],
      "execution_count": 46,
      "outputs": [
        {
          "output_type": "execute_result",
          "data": {
            "text/plain": [
              "tensor([[-0.8101,  1.1950],\n",
              "        [-1.7355,  0.2785],\n",
              "        [ 1.0294, -1.0210],\n",
              "        [ 0.6111, -0.5750]])"
            ]
          },
          "metadata": {
            "tags": []
          },
          "execution_count": 46
        }
      ]
    },
    {
      "cell_type": "code",
      "metadata": {
        "colab": {
          "base_uri": "https://localhost:8080/"
        },
        "id": "f-3EOaThgTYA",
        "outputId": "07192567-4d62-4f64-db6b-f2757c87b59e"
      },
      "source": [
        "#identify null input tensors using nonzero function\n",
        "torch.nonzero(torch.tensor([10,00,23,0,0.0]))"
      ],
      "execution_count": 47,
      "outputs": [
        {
          "output_type": "execute_result",
          "data": {
            "text/plain": [
              "tensor([[0],\n",
              "        [2]])"
            ]
          },
          "metadata": {
            "tags": []
          },
          "execution_count": 47
        }
      ]
    },
    {
      "cell_type": "code",
      "metadata": {
        "colab": {
          "base_uri": "https://localhost:8080/"
        },
        "id": "443FBgR6gh33",
        "outputId": "f8a929ae-5680-4bea-a6ad-ba6e464a5188"
      },
      "source": [
        "#splitting the tensor into small chunks\n",
        "torch.split(torch.tensor([12,21,34,32,45,54,56,65]),2)"
      ],
      "execution_count": 48,
      "outputs": [
        {
          "output_type": "execute_result",
          "data": {
            "text/plain": [
              "(tensor([12, 21]), tensor([34, 32]), tensor([45, 54]), tensor([56, 65]))"
            ]
          },
          "metadata": {
            "tags": []
          },
          "execution_count": 48
        }
      ]
    },
    {
      "cell_type": "code",
      "metadata": {
        "colab": {
          "base_uri": "https://localhost:8080/"
        },
        "id": "apB96KRQg00J",
        "outputId": "fa6d7280-c7a9-4878-f758-b9a734d1d43b"
      },
      "source": [
        "#splitting the tensor into small chunks\n",
        "torch.split(torch.tensor([12,21,34,32,45,54,56,65]),3)"
      ],
      "execution_count": 49,
      "outputs": [
        {
          "output_type": "execute_result",
          "data": {
            "text/plain": [
              "(tensor([12, 21, 34]), tensor([32, 45, 54]), tensor([56, 65]))"
            ]
          },
          "metadata": {
            "tags": []
          },
          "execution_count": 49
        }
      ]
    },
    {
      "cell_type": "code",
      "metadata": {
        "colab": {
          "base_uri": "https://localhost:8080/"
        },
        "id": "88DI5Dk8g5F3",
        "outputId": "a3410caa-7983-4c98-8db8-af026942f18f"
      },
      "source": [
        "#how to reshape the tensors along a new dimension\n",
        "x"
      ],
      "execution_count": 50,
      "outputs": [
        {
          "output_type": "execute_result",
          "data": {
            "text/plain": [
              "tensor([[ 0.0400, -2.6917, -0.1639, -0.8902, -1.0122],\n",
              "        [-0.0989, -0.7946,  1.3330,  0.4503, -0.8978],\n",
              "        [ 0.2297,  0.2028, -0.2107, -0.6108, -0.4982],\n",
              "        [ 0.5610, -0.6072,  1.9183, -0.3056,  1.1050]])"
            ]
          },
          "metadata": {
            "tags": []
          },
          "execution_count": 50
        }
      ]
    },
    {
      "cell_type": "code",
      "metadata": {
        "colab": {
          "base_uri": "https://localhost:8080/"
        },
        "id": "FtbGaDr8hAbG",
        "outputId": "1572823e-308a-46ec-8c62-a6ad9386f13a"
      },
      "source": [
        "x.t() #transpose is one option to change the shape of the tensor"
      ],
      "execution_count": 51,
      "outputs": [
        {
          "output_type": "execute_result",
          "data": {
            "text/plain": [
              "tensor([[ 0.0400, -0.0989,  0.2297,  0.5610],\n",
              "        [-2.6917, -0.7946,  0.2028, -0.6072],\n",
              "        [-0.1639,  1.3330, -0.2107,  1.9183],\n",
              "        [-0.8902,  0.4503, -0.6108, -0.3056],\n",
              "        [-1.0122, -0.8978, -0.4982,  1.1050]])"
            ]
          },
          "metadata": {
            "tags": []
          },
          "execution_count": 51
        }
      ]
    },
    {
      "cell_type": "code",
      "metadata": {
        "colab": {
          "base_uri": "https://localhost:8080/"
        },
        "id": "vP_-ffW0hHOg",
        "outputId": "6d01af5d-e832-42a1-ccd8-07ac6525c9e4"
      },
      "source": [
        "x.transpose(1,0)"
      ],
      "execution_count": 52,
      "outputs": [
        {
          "output_type": "execute_result",
          "data": {
            "text/plain": [
              "tensor([[ 0.0400, -0.0989,  0.2297,  0.5610],\n",
              "        [-2.6917, -0.7946,  0.2028, -0.6072],\n",
              "        [-0.1639,  1.3330, -0.2107,  1.9183],\n",
              "        [-0.8902,  0.4503, -0.6108, -0.3056],\n",
              "        [-1.0122, -0.8978, -0.4982,  1.1050]])"
            ]
          },
          "metadata": {
            "tags": []
          },
          "execution_count": 52
        }
      ]
    },
    {
      "cell_type": "code",
      "metadata": {
        "colab": {
          "base_uri": "https://localhost:8080/"
        },
        "id": "cNag1Rc-hLuj",
        "outputId": "2b3b8e84-1d95-4752-a40d-5ff597bdd62d"
      },
      "source": [
        "x"
      ],
      "execution_count": 53,
      "outputs": [
        {
          "output_type": "execute_result",
          "data": {
            "text/plain": [
              "tensor([[ 0.0400, -2.6917, -0.1639, -0.8902, -1.0122],\n",
              "        [-0.0989, -0.7946,  1.3330,  0.4503, -0.8978],\n",
              "        [ 0.2297,  0.2028, -0.2107, -0.6108, -0.4982],\n",
              "        [ 0.5610, -0.6072,  1.9183, -0.3056,  1.1050]])"
            ]
          },
          "metadata": {
            "tags": []
          },
          "execution_count": 53
        }
      ]
    },
    {
      "cell_type": "code",
      "metadata": {
        "colab": {
          "base_uri": "https://localhost:8080/"
        },
        "id": "Yl-34UuZhOcv",
        "outputId": "2f556e12-c7bd-4408-fb9f-c4b59a3b01f3"
      },
      "source": [
        "torch.unbind(x,1) #dim=1 removing a column"
      ],
      "execution_count": 54,
      "outputs": [
        {
          "output_type": "execute_result",
          "data": {
            "text/plain": [
              "(tensor([ 0.0400, -0.0989,  0.2297,  0.5610]),\n",
              " tensor([-2.6917, -0.7946,  0.2028, -0.6072]),\n",
              " tensor([-0.1639,  1.3330, -0.2107,  1.9183]),\n",
              " tensor([-0.8902,  0.4503, -0.6108, -0.3056]),\n",
              " tensor([-1.0122, -0.8978, -0.4982,  1.1050]))"
            ]
          },
          "metadata": {
            "tags": []
          },
          "execution_count": 54
        }
      ]
    },
    {
      "cell_type": "code",
      "metadata": {
        "colab": {
          "base_uri": "https://localhost:8080/"
        },
        "id": "HFD4wXi0hUoN",
        "outputId": "7bbb70fd-ae58-4b37-c242-30b40d8fb048"
      },
      "source": [
        "torch.unbind(x,0) #dim=0 removing a row"
      ],
      "execution_count": 55,
      "outputs": [
        {
          "output_type": "execute_result",
          "data": {
            "text/plain": [
              "(tensor([ 0.0400, -2.6917, -0.1639, -0.8902, -1.0122]),\n",
              " tensor([-0.0989, -0.7946,  1.3330,  0.4503, -0.8978]),\n",
              " tensor([ 0.2297,  0.2028, -0.2107, -0.6108, -0.4982]),\n",
              " tensor([ 0.5610, -0.6072,  1.9183, -0.3056,  1.1050]))"
            ]
          },
          "metadata": {
            "tags": []
          },
          "execution_count": 55
        }
      ]
    },
    {
      "cell_type": "code",
      "metadata": {
        "colab": {
          "base_uri": "https://localhost:8080/"
        },
        "id": "S27FU6hVheOP",
        "outputId": "772e8f59-5635-4579-8f95-c9de0f975ebc"
      },
      "source": [
        "x"
      ],
      "execution_count": 56,
      "outputs": [
        {
          "output_type": "execute_result",
          "data": {
            "text/plain": [
              "tensor([[ 0.0400, -2.6917, -0.1639, -0.8902, -1.0122],\n",
              "        [-0.0989, -0.7946,  1.3330,  0.4503, -0.8978],\n",
              "        [ 0.2297,  0.2028, -0.2107, -0.6108, -0.4982],\n",
              "        [ 0.5610, -0.6072,  1.9183, -0.3056,  1.1050]])"
            ]
          },
          "metadata": {
            "tags": []
          },
          "execution_count": 56
        }
      ]
    },
    {
      "cell_type": "code",
      "metadata": {
        "colab": {
          "base_uri": "https://localhost:8080/"
        },
        "id": "qIZYbtLhhjve",
        "outputId": "8f002e01-a5b5-4550-82b8-a61608f86daa"
      },
      "source": [
        "#adding value to the existing tensor, scalar addition\n",
        "torch.add(x,20)"
      ],
      "execution_count": 57,
      "outputs": [
        {
          "output_type": "execute_result",
          "data": {
            "text/plain": [
              "tensor([[20.0400, 17.3083, 19.8361, 19.1098, 18.9878],\n",
              "        [19.9011, 19.2054, 21.3330, 20.4503, 19.1022],\n",
              "        [20.2297, 20.2028, 19.7893, 19.3892, 19.5018],\n",
              "        [20.5610, 19.3928, 21.9183, 19.6944, 21.1050]])"
            ]
          },
          "metadata": {
            "tags": []
          },
          "execution_count": 57
        }
      ]
    },
    {
      "cell_type": "code",
      "metadata": {
        "colab": {
          "base_uri": "https://localhost:8080/"
        },
        "id": "fvRMwqCjhuFG",
        "outputId": "1017d3bb-3c94-43d5-bd6c-b51b8bb22e14"
      },
      "source": [
        "x"
      ],
      "execution_count": 58,
      "outputs": [
        {
          "output_type": "execute_result",
          "data": {
            "text/plain": [
              "tensor([[ 0.0400, -2.6917, -0.1639, -0.8902, -1.0122],\n",
              "        [-0.0989, -0.7946,  1.3330,  0.4503, -0.8978],\n",
              "        [ 0.2297,  0.2028, -0.2107, -0.6108, -0.4982],\n",
              "        [ 0.5610, -0.6072,  1.9183, -0.3056,  1.1050]])"
            ]
          },
          "metadata": {
            "tags": []
          },
          "execution_count": 58
        }
      ]
    },
    {
      "cell_type": "code",
      "metadata": {
        "colab": {
          "base_uri": "https://localhost:8080/"
        },
        "id": "sJmeIAxhhwAG",
        "outputId": "896cff2b-cbcc-4f50-b957-1b181c543729"
      },
      "source": [
        "#scalar multiplication\n",
        "torch.mul(x,2)"
      ],
      "execution_count": 59,
      "outputs": [
        {
          "output_type": "execute_result",
          "data": {
            "text/plain": [
              "tensor([[ 0.0799, -5.3834, -0.3279, -1.7804, -2.0245],\n",
              "        [-0.1978, -1.5892,  2.6659,  0.9007, -1.7956],\n",
              "        [ 0.4594,  0.4055, -0.4215, -1.2217, -0.9964],\n",
              "        [ 1.1220, -1.2144,  3.8367, -0.6111,  2.2100]])"
            ]
          },
          "metadata": {
            "tags": []
          },
          "execution_count": 59
        }
      ]
    },
    {
      "cell_type": "code",
      "metadata": {
        "colab": {
          "base_uri": "https://localhost:8080/"
        },
        "id": "OIiFWerHh2uk",
        "outputId": "7b9d5ac8-20a3-411c-ffc6-d15f28362dbd"
      },
      "source": [
        "x"
      ],
      "execution_count": 60,
      "outputs": [
        {
          "output_type": "execute_result",
          "data": {
            "text/plain": [
              "tensor([[ 0.0400, -2.6917, -0.1639, -0.8902, -1.0122],\n",
              "        [-0.0989, -0.7946,  1.3330,  0.4503, -0.8978],\n",
              "        [ 0.2297,  0.2028, -0.2107, -0.6108, -0.4982],\n",
              "        [ 0.5610, -0.6072,  1.9183, -0.3056,  1.1050]])"
            ]
          },
          "metadata": {
            "tags": []
          },
          "execution_count": 60
        }
      ]
    },
    {
      "cell_type": "code",
      "metadata": {
        "colab": {
          "base_uri": "https://localhost:8080/"
        },
        "id": "ATAHhxL9h4Wk",
        "outputId": "f756da17-0ffb-4d7a-d85e-4f05ce1c79fb"
      },
      "source": [
        "intercept = torch.randn(1)\n",
        "intercept"
      ],
      "execution_count": 61,
      "outputs": [
        {
          "output_type": "execute_result",
          "data": {
            "text/plain": [
              "tensor([1.2046])"
            ]
          },
          "metadata": {
            "tags": []
          },
          "execution_count": 61
        }
      ]
    },
    {
      "cell_type": "code",
      "metadata": {
        "colab": {
          "base_uri": "https://localhost:8080/"
        },
        "id": "WeoBLlfmh-il",
        "outputId": "e2e8eab4-f3d9-4ee3-d641-ba0c1a3f7fc2"
      },
      "source": [
        "x = torch.randn(2,2)\n",
        "x"
      ],
      "execution_count": 62,
      "outputs": [
        {
          "output_type": "execute_result",
          "data": {
            "text/plain": [
              "tensor([[-0.3400, -0.2002],\n",
              "        [-0.5198, -2.0800]])"
            ]
          },
          "metadata": {
            "tags": []
          },
          "execution_count": 62
        }
      ]
    },
    {
      "cell_type": "code",
      "metadata": {
        "colab": {
          "base_uri": "https://localhost:8080/"
        },
        "id": "eL_vJgl-iBC0",
        "outputId": "0c5c5609-8101-47c1-fdf0-071820661b24"
      },
      "source": [
        "beta = 0.7456\n",
        "beta"
      ],
      "execution_count": 63,
      "outputs": [
        {
          "output_type": "execute_result",
          "data": {
            "text/plain": [
              "0.7456"
            ]
          },
          "metadata": {
            "tags": []
          },
          "execution_count": 63
        }
      ]
    },
    {
      "cell_type": "code",
      "metadata": {
        "colab": {
          "base_uri": "https://localhost:8080/"
        },
        "id": "can3RRJBiF8b",
        "outputId": "4b1ecf71-ec2d-44cf-b516-fddce4895636"
      },
      "source": [
        "torch.mul(intercept,x)"
      ],
      "execution_count": 64,
      "outputs": [
        {
          "output_type": "execute_result",
          "data": {
            "text/plain": [
              "tensor([[-0.4095, -0.2412],\n",
              "        [-0.6261, -2.5056]])"
            ]
          },
          "metadata": {
            "tags": []
          },
          "execution_count": 64
        }
      ]
    },
    {
      "cell_type": "code",
      "metadata": {
        "colab": {
          "base_uri": "https://localhost:8080/"
        },
        "id": "HKg8r5RliK6w",
        "outputId": "2e5be4c8-11ef-4188-f91f-b0a51ad51f92"
      },
      "source": [
        "torch.mul(x,beta)"
      ],
      "execution_count": 65,
      "outputs": [
        {
          "output_type": "execute_result",
          "data": {
            "text/plain": [
              "tensor([[-0.2535, -0.1493],\n",
              "        [-0.3875, -1.5509]])"
            ]
          },
          "metadata": {
            "tags": []
          },
          "execution_count": 65
        }
      ]
    },
    {
      "cell_type": "code",
      "metadata": {
        "colab": {
          "base_uri": "https://localhost:8080/"
        },
        "id": "B1KmE5N2iNAR",
        "outputId": "8da33237-978d-42a9-ca84-33e602f3f7fd"
      },
      "source": [
        "#y = intercept + (beta*x)\n",
        "torch.add(torch.mul(intercept,x), torch.mul(x,beta)) #tensor y"
      ],
      "execution_count": 66,
      "outputs": [
        {
          "output_type": "execute_result",
          "data": {
            "text/plain": [
              "tensor([[-0.6630, -0.3905],\n",
              "        [-1.0137, -4.0564]])"
            ]
          },
          "metadata": {
            "tags": []
          },
          "execution_count": 66
        }
      ]
    },
    {
      "cell_type": "code",
      "metadata": {
        "colab": {
          "base_uri": "https://localhost:8080/"
        },
        "id": "4gtvdpxTia0b",
        "outputId": "0a96b123-c88f-4b07-d22b-92ac23a9cdbc"
      },
      "source": [
        "#rounding up tensor values\n",
        "torch.manual_seed(1234)\n",
        "torch.randn(5,5)"
      ],
      "execution_count": 67,
      "outputs": [
        {
          "output_type": "execute_result",
          "data": {
            "text/plain": [
              "tensor([[-0.1117, -0.4966,  0.1631, -0.8817,  0.0539],\n",
              "        [ 0.6684, -0.0597, -0.4675, -0.2153, -0.7141],\n",
              "        [-1.0831, -0.5547,  0.9717, -0.5150,  1.4255],\n",
              "        [ 0.7987, -1.4949,  1.4778, -0.1696, -0.9919],\n",
              "        [-1.4569,  0.2563, -0.4030,  0.4195,  0.9380]])"
            ]
          },
          "metadata": {
            "tags": []
          },
          "execution_count": 67
        }
      ]
    },
    {
      "cell_type": "code",
      "metadata": {
        "colab": {
          "base_uri": "https://localhost:8080/"
        },
        "id": "8OlPOITcim32",
        "outputId": "7b23cf1c-c16d-4ce9-901b-4bd15692ebea"
      },
      "source": [
        "torch.manual_seed(1234)\n",
        "torch.ceil(torch.randn(5,5))"
      ],
      "execution_count": 68,
      "outputs": [
        {
          "output_type": "execute_result",
          "data": {
            "text/plain": [
              "tensor([[-0., -0.,  1., -0.,  1.],\n",
              "        [ 1., -0., -0., -0., -0.],\n",
              "        [-1., -0.,  1., -0.,  2.],\n",
              "        [ 1., -1.,  2., -0., -0.],\n",
              "        [-1.,  1., -0.,  1.,  1.]])"
            ]
          },
          "metadata": {
            "tags": []
          },
          "execution_count": 68
        }
      ]
    },
    {
      "cell_type": "code",
      "metadata": {
        "colab": {
          "base_uri": "https://localhost:8080/"
        },
        "id": "K8dxo46tiwC6",
        "outputId": "0cc50fb0-d1e8-43cd-b208-f80c534252de"
      },
      "source": [
        "torch.manual_seed(1234)\n",
        "torch.floor(torch.randn(5,5))"
      ],
      "execution_count": 69,
      "outputs": [
        {
          "output_type": "execute_result",
          "data": {
            "text/plain": [
              "tensor([[-1., -1.,  0., -1.,  0.],\n",
              "        [ 0., -1., -1., -1., -1.],\n",
              "        [-2., -1.,  0., -1.,  1.],\n",
              "        [ 0., -2.,  1., -1., -1.],\n",
              "        [-2.,  0., -1.,  0.,  0.]])"
            ]
          },
          "metadata": {
            "tags": []
          },
          "execution_count": 69
        }
      ]
    },
    {
      "cell_type": "code",
      "metadata": {
        "colab": {
          "base_uri": "https://localhost:8080/"
        },
        "id": "Qx40aJ-ZizQ1",
        "outputId": "90b88f50-dd71-4bd0-c629-65fa99741816"
      },
      "source": [
        "#truncate the values in a range say 0,1\n",
        "torch.manual_seed(1234)\n",
        "torch.clamp(torch.floor(torch.randn(5,5)), min=-0.3, max=0.4)"
      ],
      "execution_count": 70,
      "outputs": [
        {
          "output_type": "execute_result",
          "data": {
            "text/plain": [
              "tensor([[-0.3000, -0.3000,  0.0000, -0.3000,  0.0000],\n",
              "        [ 0.0000, -0.3000, -0.3000, -0.3000, -0.3000],\n",
              "        [-0.3000, -0.3000,  0.0000, -0.3000,  0.4000],\n",
              "        [ 0.0000, -0.3000,  0.4000, -0.3000, -0.3000],\n",
              "        [-0.3000,  0.0000, -0.3000,  0.0000,  0.0000]])"
            ]
          },
          "metadata": {
            "tags": []
          },
          "execution_count": 70
        }
      ]
    },
    {
      "cell_type": "code",
      "metadata": {
        "colab": {
          "base_uri": "https://localhost:8080/"
        },
        "id": "0zYtCkyGjF15",
        "outputId": "03920a4e-1352-432e-8775-f34687b280d9"
      },
      "source": [
        "#truncate with only lower limit\n",
        "torch.manual_seed(1234)\n",
        "torch.clamp(torch.floor(torch.randn(5,5)), min=-0.3)"
      ],
      "execution_count": 71,
      "outputs": [
        {
          "output_type": "execute_result",
          "data": {
            "text/plain": [
              "tensor([[-0.3000, -0.3000,  0.0000, -0.3000,  0.0000],\n",
              "        [ 0.0000, -0.3000, -0.3000, -0.3000, -0.3000],\n",
              "        [-0.3000, -0.3000,  0.0000, -0.3000,  1.0000],\n",
              "        [ 0.0000, -0.3000,  1.0000, -0.3000, -0.3000],\n",
              "        [-0.3000,  0.0000, -0.3000,  0.0000,  0.0000]])"
            ]
          },
          "metadata": {
            "tags": []
          },
          "execution_count": 71
        }
      ]
    },
    {
      "cell_type": "code",
      "metadata": {
        "colab": {
          "base_uri": "https://localhost:8080/"
        },
        "id": "f962jKKbjOMh",
        "outputId": "7cf0d469-fca8-4e34-97ea-9c94a6accdc1"
      },
      "source": [
        "#truncate with only upper limit\n",
        "torch.manual_seed(1234)\n",
        "torch.clamp(torch.floor(torch.randn(5,5)), max=0.3)"
      ],
      "execution_count": 72,
      "outputs": [
        {
          "output_type": "execute_result",
          "data": {
            "text/plain": [
              "tensor([[-1.0000, -1.0000,  0.0000, -1.0000,  0.0000],\n",
              "        [ 0.0000, -1.0000, -1.0000, -1.0000, -1.0000],\n",
              "        [-2.0000, -1.0000,  0.0000, -1.0000,  0.3000],\n",
              "        [ 0.0000, -2.0000,  0.3000, -1.0000, -1.0000],\n",
              "        [-2.0000,  0.0000, -1.0000,  0.0000,  0.0000]])"
            ]
          },
          "metadata": {
            "tags": []
          },
          "execution_count": 72
        }
      ]
    },
    {
      "cell_type": "code",
      "metadata": {
        "colab": {
          "base_uri": "https://localhost:8080/"
        },
        "id": "yOjaMjJJjTlJ",
        "outputId": "88815e23-4be0-453f-f9cc-c2c4192bbb61"
      },
      "source": [
        "#compute the exponential\n",
        "torch.exp(x)"
      ],
      "execution_count": 73,
      "outputs": [
        {
          "output_type": "execute_result",
          "data": {
            "text/plain": [
              "tensor([[0.7118, 0.8185],\n",
              "        [0.5947, 0.1249]])"
            ]
          },
          "metadata": {
            "tags": []
          },
          "execution_count": 73
        }
      ]
    },
    {
      "cell_type": "code",
      "metadata": {
        "colab": {
          "base_uri": "https://localhost:8080/"
        },
        "id": "jKcmaq7UnGGr",
        "outputId": "70728f9c-abb0-4168-cf06-ce075a2a6d55"
      },
      "source": [
        "np.exp(x)"
      ],
      "execution_count": 74,
      "outputs": [
        {
          "output_type": "execute_result",
          "data": {
            "text/plain": [
              "tensor([[0.7118, 0.8185],\n",
              "        [0.5947, 0.1249]])"
            ]
          },
          "metadata": {
            "tags": []
          },
          "execution_count": 74
        }
      ]
    },
    {
      "cell_type": "code",
      "metadata": {
        "colab": {
          "base_uri": "https://localhost:8080/"
        },
        "id": "UxB4RzwLnJJI",
        "outputId": "5902dd6b-ac2e-4c01-baa6-1071d3164eb3"
      },
      "source": [
        "torch.add(x,10)"
      ],
      "execution_count": 75,
      "outputs": [
        {
          "output_type": "execute_result",
          "data": {
            "text/plain": [
              "tensor([[9.6600, 9.7998],\n",
              "        [9.4802, 7.9200]])"
            ]
          },
          "metadata": {
            "tags": []
          },
          "execution_count": 75
        }
      ]
    },
    {
      "cell_type": "code",
      "metadata": {
        "colab": {
          "base_uri": "https://localhost:8080/"
        },
        "id": "Bni4ZeLpnQDV",
        "outputId": "715aadf8-be63-4cf6-ae4e-151b1ec72092"
      },
      "source": [
        "#getting the fractional portion of each tensor\n",
        "torch.frac(torch.add(x,10))"
      ],
      "execution_count": 76,
      "outputs": [
        {
          "output_type": "execute_result",
          "data": {
            "text/plain": [
              "tensor([[0.6600, 0.7998],\n",
              "        [0.4802, 0.9200]])"
            ]
          },
          "metadata": {
            "tags": []
          },
          "execution_count": 76
        }
      ]
    },
    {
      "cell_type": "code",
      "metadata": {
        "colab": {
          "base_uri": "https://localhost:8080/"
        },
        "id": "qdJcz_MnnT9j",
        "outputId": "37af4a88-421f-4964-c30b-0f6a866de64a"
      },
      "source": [
        "#compute the log of the values in a tensor\n",
        "x"
      ],
      "execution_count": 77,
      "outputs": [
        {
          "output_type": "execute_result",
          "data": {
            "text/plain": [
              "tensor([[-0.3400, -0.2002],\n",
              "        [-0.5198, -2.0800]])"
            ]
          },
          "metadata": {
            "tags": []
          },
          "execution_count": 77
        }
      ]
    },
    {
      "cell_type": "code",
      "metadata": {
        "colab": {
          "base_uri": "https://localhost:8080/"
        },
        "id": "xydz2IwXnfJm",
        "outputId": "e92298a0-f54e-4965-bfeb-e6797c5d8464"
      },
      "source": [
        "torch.log(x) #log of negatives are nan"
      ],
      "execution_count": 78,
      "outputs": [
        {
          "output_type": "execute_result",
          "data": {
            "text/plain": [
              "tensor([[nan, nan],\n",
              "        [nan, nan]])"
            ]
          },
          "metadata": {
            "tags": []
          },
          "execution_count": 78
        }
      ]
    },
    {
      "cell_type": "code",
      "metadata": {
        "colab": {
          "base_uri": "https://localhost:8080/"
        },
        "id": "8Xk3HhUEnjVJ",
        "outputId": "255bb880-642b-43ca-83bb-c055304e1c50"
      },
      "source": [
        "#to rectify the negative values do a power transformation\n",
        "torch.pow(x,2)"
      ],
      "execution_count": 79,
      "outputs": [
        {
          "output_type": "execute_result",
          "data": {
            "text/plain": [
              "tensor([[0.1156, 0.0401],\n",
              "        [0.2702, 4.3265]])"
            ]
          },
          "metadata": {
            "tags": []
          },
          "execution_count": 79
        }
      ]
    },
    {
      "cell_type": "code",
      "metadata": {
        "colab": {
          "base_uri": "https://localhost:8080/"
        },
        "id": "vngJ1NIznrSP",
        "outputId": "bdf16902-f8c2-409d-d5b4-e5888a1cb8c1"
      },
      "source": [
        "x"
      ],
      "execution_count": 80,
      "outputs": [
        {
          "output_type": "execute_result",
          "data": {
            "text/plain": [
              "tensor([[-0.3400, -0.2002],\n",
              "        [-0.5198, -2.0800]])"
            ]
          },
          "metadata": {
            "tags": []
          },
          "execution_count": 80
        }
      ]
    },
    {
      "cell_type": "code",
      "metadata": {
        "colab": {
          "base_uri": "https://localhost:8080/"
        },
        "id": "eP-bGtNcnw0m",
        "outputId": "627b7e38-bff6-433f-9e15-e00cd2cc1950"
      },
      "source": [
        "#compute the sigmoid of the input tensor\n",
        "torch.sigmoid(x)"
      ],
      "execution_count": 81,
      "outputs": [
        {
          "output_type": "execute_result",
          "data": {
            "text/plain": [
              "tensor([[0.4158, 0.4501],\n",
              "        [0.3729, 0.1111]])"
            ]
          },
          "metadata": {
            "tags": []
          },
          "execution_count": 81
        }
      ]
    },
    {
      "cell_type": "code",
      "metadata": {
        "colab": {
          "base_uri": "https://localhost:8080/"
        },
        "id": "gk3oPTEkn1f_",
        "outputId": "d2ae9627-f494-4c3f-a9e0-bba91963f64e"
      },
      "source": [
        "#finding the square root of the values\n",
        "x"
      ],
      "execution_count": 82,
      "outputs": [
        {
          "output_type": "execute_result",
          "data": {
            "text/plain": [
              "tensor([[-0.3400, -0.2002],\n",
              "        [-0.5198, -2.0800]])"
            ]
          },
          "metadata": {
            "tags": []
          },
          "execution_count": 82
        }
      ]
    },
    {
      "cell_type": "code",
      "metadata": {
        "colab": {
          "base_uri": "https://localhost:8080/"
        },
        "id": "qTUIheqbn5JG",
        "outputId": "75da5138-1e29-4651-a47c-3051968da58f"
      },
      "source": [
        "torch.sqrt(x)"
      ],
      "execution_count": 83,
      "outputs": [
        {
          "output_type": "execute_result",
          "data": {
            "text/plain": [
              "tensor([[nan, nan],\n",
              "        [nan, nan]])"
            ]
          },
          "metadata": {
            "tags": []
          },
          "execution_count": 83
        }
      ]
    },
    {
      "cell_type": "code",
      "metadata": {
        "id": "g8Am7Iecn7YF"
      },
      "source": [
        ""
      ],
      "execution_count": 83,
      "outputs": []
    }
  ]
}